{
 "cells": [
  {
   "cell_type": "code",
   "execution_count": null,
   "id": "48ad22c1",
   "metadata": {},
   "outputs": [],
   "source": [
    "from gastro_expert_system import GastroExpert, load_symptoms\n",
    "from experta import Fact"
   ]
  },
  {
   "cell_type": "code",
   "execution_count": null,
   "id": "d28f5783",
   "metadata": {},
   "outputs": [],
   "source": [
    "# diagnosis with predefined symptom \n",
    "def simulate_diagnosis(symptom_inputs):\n",
    "    diseases = load_symptoms('Symptoms.csv')\n",
    "    engine = GastroExpert(diseases)\n",
    "    engine.reset()\n",
    "    for symptom in symptom_inputs:\n",
    "        engine.declare(Fact(symptom=symptom))\n",
    "    engine.run()"
   ]
  },
  {
   "cell_type": "code",
   "execution_count": null,
   "id": "18cd67e7",
   "metadata": {},
   "outputs": [],
   "source": [
    "#test cases (1 per disease)\n",
    "print(\"\\n--- Simulating GERD ---\")\n",
    "simulate_diagnosis(['heartburn', 'regurgitation'])\n",
    "\n",
    "print(\"\\n--- Simulating IBS ---\")\n",
    "simulate_diagnosis(['abdominal_pain', 'bloating', 'altered_bowel_habits'])\n",
    "\n",
    "print(\"\\n--- Simulating Crohn's Disease ---\")\n",
    "simulate_diagnosis(['chronic_diarrhea', 'weight_loss', 'ulcers_on_colonoscopy'])\n",
    "\n",
    "print(\"\\n--- Simulating Ulcerative Colitis ---\")\n",
    "simulate_diagnosis(['bloody_diarrhea', 'cramping', 'mucus_in_stools'])\n",
    "\n",
    "print(\"\\n--- Simulating Peptic Ulcer Disease ---\")\n",
    "simulate_diagnosis(['epigastric_pain', 'ulcer_on_endoscopy'])\n",
    "\n",
    "print(\"\\n--- Simulating Hepatitis ---\")\n",
    "simulate_diagnosis(['jaundice', 'right_upper_quadrant_pain'])\n",
    "\n",
    "print(\"\\n--- Simulating Pancreatitis ---\")\n",
    "simulate_diagnosis(['severe_abdominal_pain', 'high_amylase'])\n",
    "\n",
    "print(\"\\n--- Simulating Lactose Intolerance ---\")\n",
    "simulate_diagnosis(['diarrhea', 'post_prandial_bloating'])\n",
    "\n",
    "print(\"\\n--- Simulating Celiac Disease ---\")\n",
    "simulate_diagnosis(['gluten_sensitivity', 'villous_atrophy_on_biopsy'])\n",
    "\n",
    "print(\"\\n--- Simulating Diverticulitis ---\")\n",
    "simulate_diagnosis(['right_lower_quadrant_pain', 'fever'])\n",
    "\n",
    "print(\"\\n--- Simulating Gastroenteritis ---\")\n",
    "simulate_diagnosis(['nausea', 'vomiting', 'diarrhea', 'recent_travel'])\n",
    "\n",
    "print(\"\\n--- Simulating No Diagnosis ---\")\n",
    "simulate_diagnosis(['dry_mouth']) "
   ]
  }
 ],
 "metadata": {
  "kernelspec": {
   "display_name": "DS",
   "language": "python",
   "name": "python3"
  },
  "language_info": {
   "codemirror_mode": {
    "name": "ipython",
    "version": 3
   },
   "file_extension": ".py",
   "mimetype": "text/x-python",
   "name": "python",
   "nbconvert_exporter": "python",
   "pygments_lexer": "ipython3",
   "version": "3.12.9"
  }
 },
 "nbformat": 4,
 "nbformat_minor": 5
}
